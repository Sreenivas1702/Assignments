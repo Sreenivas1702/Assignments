{
 "cells": [
  {
   "cell_type": "markdown",
   "metadata": {},
   "source": [
    "# Assignment 1\n",
    "# Name : Chimmani Sreenivas\n",
    "# Email: sreenivaschimmani741@gmail.com\n",
    "# Number: 9872838745"
   ]
  },
  {
   "cell_type": "markdown",
   "metadata": {},
   "source": [
    "# 1. Answer\n",
    "\n",
    "a). EXPRESSIONS:\n",
    "                   Expressions are representations of value. Python has some advanced constructs through which you can      represent values and hence these constructs are also called expressions.\n",
    "                  \n",
    "                  (example: *, -, /, + etc...)\n",
    "  \n",
    "  b). VALUES:\n",
    "              A value is one of the most basic things in any program works with. A value may be characters i.e. ‘Hello, World!’ or a number like 1,2.2 ,3.5 etc.Values belong to different types: \n",
    "              1. is an integer, \n",
    "              2. is a float and \n",
    "              3. ‘Hello, World!’ is a string etc.\n",
    "              \n",
    "              (example: 'hello', -87.8, 6)\n",
    "\n"
   ]
  },
  {
   "cell_type": "markdown",
   "metadata": {},
   "source": [
    "# 2. Answer\n",
    "   \n",
    "  STRING = A string is a value representing text, string is a class reference datatype it is used to represent text type                  data.Strings can not be used for calculation.\n",
    "           \n",
    "           (ex: statement = \"Welcome to python\")\n",
    "            here ~ \"Welcome to python\" ~ is a string.\n",
    "  \n",
    "  VARIABLE = A Variable is a store of information, variable is any alphabets or group of alphabet which work as temporary                    storage locations , a variable is used to represent any value. Multiple variables can be used for calculations.\n",
    "             \n",
    "             (ex: statement = \"Welcome to python\" )\n",
    "              here ~ statement ~ is variable.\n",
    "              \n",
    "              \n",
    "  \n",
    "   "
   ]
  },
  {
   "cell_type": "code",
   "execution_count": 7,
   "metadata": {},
   "outputs": [
    {
     "data": {
      "text/plain": [
       "'lunch is ready come and eat'"
      ]
     },
     "execution_count": 7,
     "metadata": {},
     "output_type": "execute_result"
    }
   ],
   "source": [
    "# 2. variable example,\n",
    "\n",
    "afternoon = \"lunch is ready\"\n",
    "food = \" come and eat\"\n",
    "dn = afternoon + food\n",
    "dn\n",
    "#here variables = afternoon, food, dn \n",
    "#and strings = \"lunch is ready\" , \" come and eat\"\n",
    "  "
   ]
  },
  {
   "cell_type": "markdown",
   "metadata": {},
   "source": [
    "# 3. Answer\n",
    "# Three different data types.\n",
    "\n",
    "\n",
    "Data types in Python, every value in Python has a datatype. There are various data types in Python. Some of the important types are listed below.\n",
    "\n",
    "(1.Text Type: str) \n",
    "(2.Numeric Types: int, float, complex) \n",
    "(3.Sequence Types: list, tuple, range)\n",
    "(4.Mapping Type: dict)\n",
    "(5.Set Types: set, frozenset)\n",
    "(6.Boolean Type: bool)\n",
    "(7.Binary Types: bytes, bytearray, memoryview)\n",
    "\n",
    "Getting the Data Type:\n",
    "You can get the data type of any object by using the -type()- function:\n",
    "\n",
    "# 3(1).Python Strings:\n",
    "                          String is sequence of unicode characters. We can use single quotes or double quotes to represent strings. Multi-line strings can be denoted using triple quotes, ''' or \"\"\".slicing operator [ ] can be used with strings. \n"
   ]
  },
  {
   "cell_type": "code",
   "execution_count": 30,
   "metadata": {},
   "outputs": [
    {
     "name": "stdout",
     "output_type": "stream",
     "text": [
      "This is a string\n",
      "A multiline\n",
      "string\n",
      "<class 'str'>\n",
      "<class 'str'>\n"
     ]
    }
   ],
   "source": [
    "#3(1). python strings\n",
    "sree = \"This is a string\"\n",
    "print(sree)\n",
    "sri = '''A multiline\n",
    "string'''\n",
    "print(sri)\n",
    "print(type(sree))\n",
    "print(type(sri))"
   ]
  },
  {
   "cell_type": "markdown",
   "metadata": {},
   "source": [
    "# 3(2).Python Numeric types: Integers, floating point, complex numbers\n",
    "\n",
    "                           Integers, floating point numbers and complex numbers fall under Python numbers category. They are defined as int, float and complex classes in Python.\n",
    "INTEGERS can be of any length, it is only limited by the memory available.\n",
    "\n",
    "A fLOATING-POINT number is accurate up to 15 decimal places. Integer and floating points are separated by decimal points. 1 is an integer, 1.0 is a floating-point number.\n",
    "\n",
    "COMPLEX NUMBERS are written in the form, x + yj, where x is the real part and y is the imaginary part. \n",
    "\n",
    "We can use the type() function to know which class a variable or a value belongs to."
   ]
  },
  {
   "cell_type": "code",
   "execution_count": 20,
   "metadata": {},
   "outputs": [
    {
     "name": "stdout",
     "output_type": "stream",
     "text": [
      "<class 'int'>\n",
      "<class 'float'>\n",
      "<class 'complex'>\n"
     ]
    }
   ],
   "source": [
    "#3(2). python numeric types\n",
    "a=10\n",
    "print(type(a))\n",
    "\n",
    "b=10.99\n",
    "print(type(b))\n",
    "\n",
    "c=10+9j\n",
    "print(type(c))"
   ]
  },
  {
   "cell_type": "markdown",
   "metadata": {},
   "source": [
    "# 3(3).Python Sequence Types: List, Tuple,\n",
    "\n",
    "Python List:\n",
    "List is an ordered sequence of items. Very flexible, all the items in a list do not need to be of the same type. Declaring a list is pretty straight forward. Items separated by commas are enclosed within brackets [ ,\" \",\" \", , ,].\n",
    "Slicing in List: We can use the slicing operator [ ] to extract an item or a range of items from a list. The index starts from 0 in Python.\n",
    "\n",
    "Python Tuple:\n",
    "Tuple is an ordered sequence of items same as a list. The only difference is that tuples are 'immutable'. Tuples once created cannot be modified. Tuples are used to write-protect data and are usually faster than lists as they cannot change dynamically.\n",
    "It is defined within parentheses () where items are separated by commas.\n",
    "\n"
   ]
  },
  {
   "cell_type": "code",
   "execution_count": 36,
   "metadata": {},
   "outputs": [
    {
     "name": "stdout",
     "output_type": "stream",
     "text": [
      "<class 'list'>\n",
      "<class 'tuple'>\n"
     ]
    }
   ],
   "source": [
    "#3.(3)python List\n",
    "l=[1,2,3.33,4.44,5+6J,[7,8],\"sree\",'nivas']\n",
    "print(type(l))\n",
    " \n",
    "#python tuple\n",
    "t=(\"sree\",12,34,4.55,[1,3,5],6+7J)\n",
    "print(type(t))\n"
   ]
  },
  {
   "cell_type": "markdown",
   "metadata": {},
   "source": [
    "# 4. Answer\n",
    "# Expressions in python:\n",
    "\n",
    "Python Expressions:\n",
    "An expression is made up of combination of values, variables, operators, and calls to functions. Expressions need to be evaluated. If you ask Python to print an expression, the interpreter evaluates the expression and displays the result.\n",
    "Expressions are representations of value. For example any string is also an expressions since it represents the value of the string as well. Python has some advanced constructs through which you can represent values and hence these constructs are also called expressions.\n",
    "\n",
    "Expressions purpose in python:\n",
    "(add +)\n",
    "(subtract -)\n",
    "(multiply *)\n",
    "(power ** )\n",
    "(Integer Division /)\n",
    "(remainder %)\n",
    "(and &)\n",
    "(or \\)\n",
    "(Less than <)\n",
    "(Greater than >)\n",
    "(Less than or equal to <=)\n",
    "(Greater than or equal to >=)\n",
    "(Check equality\t==)\n",
    "(Check not equal !=)\n",
    "etc...\n",
    "\n",
    "\n",
    "\n"
   ]
  },
  {
   "cell_type": "code",
   "execution_count": 40,
   "metadata": {},
   "outputs": [
    {
     "name": "stdout",
     "output_type": "stream",
     "text": [
      "30\n",
      "200\n",
      "0.5\n"
     ]
    }
   ],
   "source": [
    "a=10\n",
    "b=20\n",
    "c=a+b #here expression + is helping to add two variables\n",
    "print(c)\n",
    "d=a*b #here expression * is helping to multiply two variables\n",
    "print(d)\n",
    "e=a/b #here expression / is helping to divide two variables\n",
    "print(e)"
   ]
  },
  {
   "cell_type": "markdown",
   "metadata": {},
   "source": [
    "# 5.  Answer\n",
    "# Expression Vs Statement\n",
    "\n",
    "Expression:\n",
    "Expressions always returns a value.\n",
    "Functions are also expressions. Even a non returning function will still return None value, so it is an expression.\n",
    "Can print the result value.\n",
    "\n",
    "Statement:\n",
    "A statement never returns a value.\n",
    "Cannot print any result.\n",
    "Examples Of Python Statements: if statement, for statement, while statement, loop statement etc."
   ]
  },
  {
   "cell_type": "code",
   "execution_count": 53,
   "metadata": {},
   "outputs": [
    {
     "name": "stdout",
     "output_type": "stream",
     "text": [
      "Yes spam is equal to 10 \n"
     ]
    }
   ],
   "source": [
    "spam=10 #here it is an expression\n",
    "\n",
    "if spam==10: #here it is a statement\n",
    "    print(\"Yes spam is equal to 10 \")\n",
    "\n",
    "        \n"
   ]
  },
  {
   "cell_type": "markdown",
   "metadata": {},
   "source": [
    "# 6. Answer\n",
    "\n",
    "# variable bacon contains 23"
   ]
  },
  {
   "cell_type": "code",
   "execution_count": 68,
   "metadata": {},
   "outputs": [
    {
     "data": {
      "text/plain": [
       "23"
      ]
     },
     "execution_count": 68,
     "metadata": {},
     "output_type": "execute_result"
    }
   ],
   "source": [
    "bacon = 22\n",
    "bacon + 1"
   ]
  },
  {
   "cell_type": "markdown",
   "metadata": {},
   "source": [
    "# 7. Answer\n",
    "# values of the following two terms be = spamspamspam\n"
   ]
  },
  {
   "cell_type": "code",
   "execution_count": 58,
   "metadata": {},
   "outputs": [
    {
     "name": "stdout",
     "output_type": "stream",
     "text": [
      "spamspamspam\n",
      "spamspamspam\n"
     ]
    }
   ],
   "source": [
    "a='spam' + 'spamspam'\n",
    "print(a)\n",
    "b='spam' * 3\n",
    "print(b)\n"
   ]
  },
  {
   "cell_type": "markdown",
   "metadata": {},
   "source": [
    "# 8. Answer\n",
    "\n",
    "VARIABLE = A Variable is a store of information, variable is any alphabet or group of alphabets but not numericals\n",
    "1, 2, 3 ,...numericals  are invalid identifiers in python because first of all they are integer objects and secondly in python a variable name can't start with a number. It will be always in alphabetical"
   ]
  },
  {
   "cell_type": "code",
   "execution_count": 64,
   "metadata": {},
   "outputs": [
    {
     "ename": "SyntaxError",
     "evalue": "cannot assign to literal (<ipython-input-64-d2aa5c76e06d>, line 2)",
     "output_type": "error",
     "traceback": [
      "\u001b[1;36m  File \u001b[1;32m\"<ipython-input-64-d2aa5c76e06d>\"\u001b[1;36m, line \u001b[1;32m2\u001b[0m\n\u001b[1;33m    100= eggs\u001b[0m\n\u001b[1;37m    ^\u001b[0m\n\u001b[1;31mSyntaxError\u001b[0m\u001b[1;31m:\u001b[0m cannot assign to literal\n"
     ]
    }
   ],
   "source": [
    "# a numerical cannot be assigned as a varibale\n",
    "100= eggs"
   ]
  },
  {
   "cell_type": "code",
   "execution_count": 65,
   "metadata": {},
   "outputs": [
    {
     "name": "stdout",
     "output_type": "stream",
     "text": [
      "100\n"
     ]
    }
   ],
   "source": [
    "# a character as variable can be assigned in python\n",
    "eggs= 100\n",
    "print(eggs)"
   ]
  },
  {
   "cell_type": "markdown",
   "metadata": {},
   "source": [
    "# 9. Answer\n",
    "three functions can be used to get the integer, floating-point number, or string version of a value are\n",
    "# int(), float(), str()"
   ]
  },
  {
   "cell_type": "code",
   "execution_count": 75,
   "metadata": {},
   "outputs": [
    {
     "name": "stdout",
     "output_type": "stream",
     "text": [
      "<class 'int'>\n",
      "<class 'float'>\n",
      "<class 'str'>\n"
     ]
    }
   ],
   "source": [
    "# examples\n",
    "a= int(\"10\")\n",
    "print(type(a))\n",
    "\n",
    "b= float(2.345)\n",
    "print(type(b))\n",
    "\n",
    "c='string value'\n",
    "print(type(c))"
   ]
  },
  {
   "cell_type": "markdown",
   "metadata": {},
   "source": [
    "# 10. Answer"
   ]
  },
  {
   "cell_type": "code",
   "execution_count": 77,
   "metadata": {},
   "outputs": [
    {
     "ename": "TypeError",
     "evalue": "can only concatenate str (not \"int\") to str",
     "output_type": "error",
     "traceback": [
      "\u001b[1;31m---------------------------------------------------------------------------\u001b[0m",
      "\u001b[1;31mTypeError\u001b[0m                                 Traceback (most recent call last)",
      "\u001b[1;32m<ipython-input-77-28f361edc226>\u001b[0m in \u001b[0;36m<module>\u001b[1;34m\u001b[0m\n\u001b[1;32m----> 1\u001b[1;33m \u001b[0md\u001b[0m\u001b[1;33m=\u001b[0m\u001b[1;34m'I have eaten '\u001b[0m \u001b[1;33m+\u001b[0m \u001b[1;36m99\u001b[0m \u001b[1;33m+\u001b[0m \u001b[1;34m' burritos.'\u001b[0m   \u001b[1;31m# error\u001b[0m\u001b[1;33m\u001b[0m\u001b[1;33m\u001b[0m\u001b[0m\n\u001b[0m",
      "\u001b[1;31mTypeError\u001b[0m: can only concatenate str (not \"int\") to str"
     ]
    }
   ],
   "source": [
    "d='I have eaten ' + 99 + ' burritos.'   # error\n"
   ]
  },
  {
   "cell_type": "code",
   "execution_count": 82,
   "metadata": {},
   "outputs": [
    {
     "name": "stdout",
     "output_type": "stream",
     "text": [
      "I have eaten 99 burritos.\n"
     ]
    }
   ],
   "source": [
    "obesity ='I have eaten ' + str(99) + ' burritos.'  #fixed\n",
    "print(obesity)"
   ]
  },
  {
   "cell_type": "code",
   "execution_count": null,
   "metadata": {},
   "outputs": [],
   "source": []
  }
 ],
 "metadata": {
  "kernelspec": {
   "display_name": "Python 3",
   "language": "python",
   "name": "python3"
  },
  "language_info": {
   "codemirror_mode": {
    "name": "ipython",
    "version": 3
   },
   "file_extension": ".py",
   "mimetype": "text/x-python",
   "name": "python",
   "nbconvert_exporter": "python",
   "pygments_lexer": "ipython3",
   "version": "3.8.5"
  }
 },
 "nbformat": 4,
 "nbformat_minor": 4
}
