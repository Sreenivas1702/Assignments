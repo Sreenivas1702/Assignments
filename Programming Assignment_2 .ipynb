{
 "cells": [
  {
   "cell_type": "markdown",
   "metadata": {},
   "source": [
    "# Programming Assignment_2\n",
    "# Chimmani Sreenivas\n",
    "# sreenivaschimmani741@gmail.com"
   ]
  },
  {
   "cell_type": "markdown",
   "metadata": {},
   "source": [
    "# 1.Write a Python program to convert kilometers to miles?\n"
   ]
  },
  {
   "cell_type": "code",
   "execution_count": 23,
   "metadata": {},
   "outputs": [
    {
     "name": "stdout",
     "output_type": "stream",
     "text": [
      "Enter kilometers = 51.5\n",
      "51.5 kilometers in Miles =  32.0006065\n"
     ]
    }
   ],
   "source": [
    "kilometers=float(input(\"Enter kilometers = \"))\n",
    "kilo_to_miles=kilometers*0.621371\n",
    "print(\"{} kilometers in Miles = \".format(kilometers), kilo_to_miles)"
   ]
  },
  {
   "cell_type": "markdown",
   "metadata": {},
   "source": [
    "# 2.Write a Python program to convert Celsius to Fahrenheit?\n"
   ]
  },
  {
   "cell_type": "code",
   "execution_count": 5,
   "metadata": {},
   "outputs": [
    {
     "name": "stdout",
     "output_type": "stream",
     "text": [
      "Enter temperature in  celsius = 33.5\n",
      "33.5 Celsius in Fahrenheit =  92.3\n"
     ]
    }
   ],
   "source": [
    "celsius = float(input(\"Enter temperature in  celsius = \"))\n",
    "fahrenheit = (celsius * 9/5) + 32\n",
    "print(\"{} Celsius in Fahrenheit = \".format(celsius), fahrenheit)"
   ]
  },
  {
   "cell_type": "markdown",
   "metadata": {},
   "source": [
    "# 3.Write a Python program to display calendar?\n"
   ]
  },
  {
   "cell_type": "code",
   "execution_count": 14,
   "metadata": {},
   "outputs": [
    {
     "name": "stdout",
     "output_type": "stream",
     "text": [
      "Enter year: 2021\n",
      "Enter month: 4\n",
      "     April 2021\n",
      "Mo Tu We Th Fr Sa Su\n",
      "          1  2  3  4\n",
      " 5  6  7  8  9 10 11\n",
      "12 13 14 15 16 17 18\n",
      "19 20 21 22 23 24 25\n",
      "26 27 28 29 30\n",
      "\n"
     ]
    }
   ],
   "source": [
    "#import calendar\n",
    "import calendar\n",
    "year=int(input(\"Enter year: \"))\n",
    "month=int(input(\"Enter month: \"))\n",
    "\n",
    "print(calendar.month(year, month))"
   ]
  },
  {
   "cell_type": "markdown",
   "metadata": {},
   "source": [
    "# 4.Write a Python program to solve quadratic equation?\n"
   ]
  },
  {
   "cell_type": "code",
   "execution_count": 21,
   "metadata": {},
   "outputs": [
    {
     "name": "stdout",
     "output_type": "stream",
     "text": [
      "enter a = 1\n",
      "enter b = 6\n",
      "enter c = 8\n",
      "The solutions  are (-4+0j) and (-2+0j)\n"
     ]
    }
   ],
   "source": [
    "# Solve the quadratic equation ax**2 + bx + c = 0\n",
    "\n",
    "# import complex math module\n",
    "import cmath\n",
    "  \n",
    "a = float(input(\"enter a = \"))\n",
    "b = float(input(\"enter b = \"))\n",
    "c = float(input(\"enter c = \"))\n",
    "  \n",
    "# calculating  the discriminant\n",
    "dis = (b**2) - (4 * a*c)\n",
    "  \n",
    "# find two solutions\n",
    "sol1 = (-b-cmath.sqrt(dis))/(2 * a)\n",
    "sol2 = (-b + cmath.sqrt(dis))/(2 * a)\n",
    "  \n",
    "print('The solutions  are {} and {}'.format(sol1, sol2))\n"
   ]
  },
  {
   "cell_type": "markdown",
   "metadata": {},
   "source": [
    "# 5. Write a Python program to swap two variables without temp variable?\n"
   ]
  },
  {
   "cell_type": "code",
   "execution_count": 26,
   "metadata": {},
   "outputs": [
    {
     "name": "stdout",
     "output_type": "stream",
     "text": [
      "Enter value a = 4\n",
      "Enter value b = 5\n",
      "After swaping a =  5\n",
      "After swaping b =  4\n"
     ]
    }
   ],
   "source": [
    "a=int(input(\"Enter value a = \"))\n",
    "b=int(input(\"Enter value b = \"))\n",
    "\n",
    "a,b=b,a\n",
    "\n",
    "print(\"After swaping a = \", a)\n",
    "print(\"After swaping b = \", b)"
   ]
  },
  {
   "cell_type": "code",
   "execution_count": null,
   "metadata": {},
   "outputs": [],
   "source": []
  }
 ],
 "metadata": {
  "kernelspec": {
   "display_name": "Python 3",
   "language": "python",
   "name": "python3"
  },
  "language_info": {
   "codemirror_mode": {
    "name": "ipython",
    "version": 3
   },
   "file_extension": ".py",
   "mimetype": "text/x-python",
   "name": "python",
   "nbconvert_exporter": "python",
   "pygments_lexer": "ipython3",
   "version": "3.8.5"
  }
 },
 "nbformat": 4,
 "nbformat_minor": 4
}
