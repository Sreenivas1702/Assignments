{
 "cells": [
  {
   "cell_type": "markdown",
   "metadata": {},
   "source": [
    "# 1.Write a Python program to print \"Hello Python\"?\n"
   ]
  },
  {
   "cell_type": "code",
   "execution_count": 16,
   "metadata": {},
   "outputs": [
    {
     "name": "stdout",
     "output_type": "stream",
     "text": [
      "Hello Python\n"
     ]
    }
   ],
   "source": [
    "course_name=\"Hello Python\"\n",
    "print(course_name)"
   ]
  },
  {
   "cell_type": "markdown",
   "metadata": {},
   "source": [
    "# 2.Write a Python program to do arithmetical operations addition and division.?\n"
   ]
  },
  {
   "cell_type": "code",
   "execution_count": 17,
   "metadata": {},
   "outputs": [
    {
     "name": "stdout",
     "output_type": "stream",
     "text": [
      "enter values = 4\n",
      "enter values = 4\n",
      "Addition =  8\n",
      "Division =  1.0\n"
     ]
    }
   ],
   "source": [
    "a=int(input(\"enter values = \"))\n",
    "b=int(input(\"enter values = \"))\n",
    "addition=a+b\n",
    "division=a/b\n",
    "print(\"Addition = \",(addition))\n",
    "print(\"Division = \",(division))"
   ]
  },
  {
   "cell_type": "markdown",
   "metadata": {},
   "source": [
    "# 3.Write a Python program to find the area of a triangle?"
   ]
  },
  {
   "cell_type": "code",
   "execution_count": 18,
   "metadata": {},
   "outputs": [
    {
     "name": "stdout",
     "output_type": "stream",
     "text": [
      "Enter first side = 3\n",
      "Enter second side = 3\n",
      "Enter third side = 3\n",
      "Perimeter of a triangle =  9.0\n",
      "Semi perimeter of a triangle =  4.5\n",
      "Area of a triangle =  3.897114317029974\n"
     ]
    }
   ],
   "source": [
    "a=float(input(\"Enter first side = \"))\n",
    "b=float(input(\"Enter second side = \"))\n",
    "c=float(input(\"Enter third side = \"))\n",
    "\n",
    "#for perimeter\n",
    "perimeter=a+b+c\n",
    "\n",
    "#for semi peimeter\n",
    "sp=(a+b+c)/2\n",
    "\n",
    "#for area\n",
    "area=(sp*(sp-a)*(sp-b)*(sp-c)) ** 0.5\n",
    "\n",
    "print(\"Perimeter of a triangle = \", (perimeter))\n",
    "print(\"Semi perimeter of a triangle = \", (sp))\n",
    "print(\"Area of a triangle = \", (area))"
   ]
  },
  {
   "cell_type": "markdown",
   "metadata": {},
   "source": [
    "# 4.Write a Python program to swap two variables?\n"
   ]
  },
  {
   "cell_type": "code",
   "execution_count": 19,
   "metadata": {},
   "outputs": [
    {
     "name": "stdout",
     "output_type": "stream",
     "text": [
      "enter the value of a = 4\n",
      "enter the value of b = 3\n",
      "after swaping a =  3\n",
      "after swaping b =  4\n"
     ]
    }
   ],
   "source": [
    "a=input(\"enter the value of a = \")\n",
    "b=input(\"enter the value of b = \")\n",
    "\n",
    "#for swapping\n",
    "c=a\n",
    "a=b\n",
    "b=c\n",
    "print(\"after swaping a = \" ,(a))\n",
    "print(\"after swaping b = \" ,(b))"
   ]
  },
  {
   "cell_type": "markdown",
   "metadata": {},
   "source": [
    "# 5.Write a Python program to generate a random number?\n"
   ]
  },
  {
   "cell_type": "code",
   "execution_count": 20,
   "metadata": {},
   "outputs": [
    {
     "name": "stdout",
     "output_type": "stream",
     "text": [
      "54\n"
     ]
    }
   ],
   "source": [
    "import random\n",
    "a=random.randint(0,100)\n",
    "print(a)"
   ]
  },
  {
   "cell_type": "code",
   "execution_count": null,
   "metadata": {},
   "outputs": [],
   "source": []
  },
  {
   "cell_type": "code",
   "execution_count": null,
   "metadata": {},
   "outputs": [],
   "source": []
  }
 ],
 "metadata": {
  "kernelspec": {
   "display_name": "Python 3",
   "language": "python",
   "name": "python3"
  },
  "language_info": {
   "codemirror_mode": {
    "name": "ipython",
    "version": 3
   },
   "file_extension": ".py",
   "mimetype": "text/x-python",
   "name": "python",
   "nbconvert_exporter": "python",
   "pygments_lexer": "ipython3",
   "version": "3.8.5"
  }
 },
 "nbformat": 4,
 "nbformat_minor": 4
}
